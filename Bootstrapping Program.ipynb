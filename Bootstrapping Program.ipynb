{
 "cells": [
  {
   "cell_type": "code",
   "execution_count": 1,
   "metadata": {},
   "outputs": [],
   "source": [
    "# import modules\n",
    "import numpy as np\n",
    "import pandas as pd\n",
    "import random\n",
    "import statsmodels.api as sm"
   ]
  },
  {
   "cell_type": "code",
   "execution_count": 2,
   "metadata": {},
   "outputs": [],
   "source": [
    "#functions to use\n",
    "\n",
    "#build OLS model\n",
    "def fit_linear_reg(y_df,x_df,intercept):\n",
    "    if intercept:\n",
    "        mod = sm.OLS(y_df, sm.add_constant(x_df))\n",
    "    else:\n",
    "        mod = sm.OLS(y_df, x_df)\n",
    "    res = mod.fit()\n",
    "    return res\n",
    "\n",
    "\n",
    "def nonparm_bootstrapping(file_name,method,y,n_bootstraps,intercept):\n",
    "    #import\n",
    "    df=pd.read_csv(file_name)\n",
    "    n=df.shape[0]\n",
    "    y_df=df[y]\n",
    "\n",
    "    #initialize dataframes\n",
    "    bootstrap_estimates=pd.DataFrame()\n",
    "    bootstrap_sample=df.iloc[:,1:5] #identifier vars\n",
    "\n",
    "    if method!='OLS':\n",
    "        estimates=pd.read_excel('%s.xlsx'%(method),sheet_name='%s%s'%(\n",
    "            y[0],'_Int' if intercept else ''\n",
    "        ))\n",
    "        estimates['Parameter Estimate']=estimates['Parameter Estimate'].astype('float32')\n",
    "        estimates['Significant Correlate']=estimates['Significant Correlate'].str.replace('*','').str.strip()\n",
    "        #get only significant correlates\n",
    "        #estimates=estimates[estimates['Significant Correlate'].str.contains('\\*')].copy()\n",
    "        head=estimates.loc[~estimates['Significant Correlate'].str.contains('Intercept'),'Significant Correlate']\n",
    "        estimates_dict=dict(zip(estimates['Significant Correlate'],estimates['Parameter Estimate']))\n",
    "        neighborhood_vars=['AQI','Hosbeds','WindSpeed','RH']\n",
    "        x=list(estimates_dict.keys())\n",
    "        x=[item for item in x if 'Intercept' not in item]\n",
    "        x_df=df[x]\n",
    "        bootstrap_sample[x]=x_df\n",
    "        bootstrap_sample[y]=y_df\n",
    "        # initial yhat\n",
    "        yhat=0\n",
    "        for col in x:\n",
    "            yhat+=x_df[col]*estimates_dict[col]\n",
    "        if intercept:\n",
    "            yhat+=sum([value for key, value in estimates_dict.items() if 'Intercept' in key])\n",
    "\n",
    "        bootstrap_sample['yhat']=yhat\n",
    "        bootstrap_sample['resid']=bootstrap_sample[y[0]]-bootstrap_sample['yhat']\n",
    "        resids=bootstrap_sample['resid']\n",
    "\n",
    "    else:\n",
    "        x_df=df[x]\n",
    "        bootstrap_sample[x]=x_df\n",
    "        bootstrap_sample[y]=y_df\n",
    "        res=fit_linear_reg(y_df,x_df,intercept)\n",
    "        base_coeffs=res.params.reset_index().transpose()\n",
    "        head=base_coeffs.iloc[0]\n",
    "\n",
    "        #get initial resids\n",
    "        bootstrap_sample['yhat']=res.fittedvalues\n",
    "        bootstrap_sample['resid']=res.resid\n",
    "        resids=res.resid\n",
    "\n",
    "    #create bootstrap samples from resids\n",
    "    if method=='STEM':\n",
    "        neighbor_df=df[neighborhood_vars]\n",
    "        neighborhood_estimates_dict={}\n",
    "        for var in estimates_dict.keys():\n",
    "            if var in neighborhood_vars:\n",
    "                neighborhood_estimates_dict[var]=estimates_dict[var]\n",
    "        if intercept:\n",
    "            neighborhood_estimates_dict['Intercept_n']=estimates_dict['Intercept_n']\n",
    "        \n",
    "        #create df with correlates excluding neighborhood variables\n",
    "        x= [item for item in x if item not in neighborhood_vars]\n",
    "        head=x\n",
    "        x_df=df[x]\n",
    "        if intercept:\n",
    "            head.insert(0,'Intercept')\n",
    "\n",
    "        #remove contribution of neighborhood vars to yhat\n",
    "        for col in neighborhood_vars:\n",
    "            yhat-=neighbor_df[col]*estimates_dict[col]\n",
    "        if intercept:\n",
    "            yhat-=estimates_dict['Intercept_n']\n",
    "\n",
    "        for i in range(n_bootstraps):\n",
    "            #assign random resids\n",
    "            bootstrap_sample['rb%s'%(i+1)] = np.random.choice(resids, n, replace=True)\n",
    "            #add boostrap resids to fitted y values\n",
    "            bootstrap_sample['yb%s'%(i+1)]=yhat+bootstrap_sample['rb%s'%(i+1)]\n",
    "            \n",
    "            #fit linear reg model using new y values\n",
    "            res=fit_linear_reg(y_df=bootstrap_sample['yb%s'%(i+1)]\n",
    "                ,x_df=x_df\n",
    "                ,intercept=intercept)\n",
    "\n",
    "            resids=res.resid\n",
    "            bootstrap_estimates=pd.concat([bootstrap_estimates,(res.params.reset_index().transpose().iloc[1:])])\n",
    "            print(\"Bootstrap sample %s completed\"%(i+1))\n",
    "\n",
    "    else:\n",
    "        for i in range(n_bootstraps):\n",
    "            #assign random resids\n",
    "            bootstrap_sample['rb%s'%(i+1)] = np.random.choice(resids, n, replace=True)\n",
    "            #add boostrap resids to fitted y values\n",
    "            bootstrap_sample['yb%s'%(i+1)]=bootstrap_sample['yhat']+bootstrap_sample['rb%s'%(i+1)]\n",
    "            \n",
    "            #fit linear reg model using new y values\n",
    "            res=fit_linear_reg(y_df=bootstrap_sample['yb%s'%(i+1)]\n",
    "                ,x_df=x_df\n",
    "                ,intercept=intercept)\n",
    "            resids=res.resid\n",
    "            bootstrap_estimates=pd.concat([bootstrap_estimates,(res.params.reset_index().transpose().iloc[1:])])\n",
    "            \n",
    "            print(\"Bootstrap sample %s completed\"%(i+1))\n",
    "    \n",
    "    #compute percentiles for each parameter\n",
    "    lower_bound=np.percentile(bootstrap_estimates, 2.5, axis=0, keepdims=False)\n",
    "    upper_bound=np.percentile(bootstrap_estimates, 97.5, axis=0, keepdims=False)\n",
    "    bootstrap_estimates.loc[n_bootstraps,:]=lower_bound\n",
    "    bootstrap_estimates.loc[n_bootstraps+1,:]=upper_bound\n",
    "    \n",
    "    #export to csv\n",
    "    print('Exporting bootstrap samples')\n",
    "    bootstrap_sample.to_csv('%s%s%s.csv'%(method,y[0].replace('Death_1M','Death'),'_Int' if intercept==True else ''),index=False)\n",
    "    print('Completed!')\n",
    "    \n",
    "    bootstrap_estimates.columns=head\n",
    "    bootstrap_estimates.index=list(np.arange(n_bootstraps)+1)+['2.5th percentile','97.5th percentile']\n",
    "    print('Exporting bootstrap estimates...')\n",
    "    bootstrap_estimates.to_csv('%s%s%s_Estimates.csv'%(method,y[0].replace('Death_1M','Death'),'_Int' if intercept==True else ''),index_label='bootstrap')\n",
    "    print('Completed!')\n",
    "        "
   ]
  },
  {
   "cell_type": "code",
   "execution_count": 214,
   "metadata": {},
   "outputs": [
    {
     "name": "stderr",
     "output_type": "stream",
     "text": [
      "C:\\Users\\fongx\\AppData\\Local\\Temp\\ipykernel_18244\\107877649.py:28: FutureWarning: The default value of regex will change from True to False in a future version. In addition, single character regular expressions will *not* be treated as literal strings when regex=True.\n",
      "  estimates['Significant Correlate']=estimates['Significant Correlate'].str.replace('*','').str.strip()\n"
     ]
    },
    {
     "name": "stdout",
     "output_type": "stream",
     "text": [
      "Bootstrap sample 1 completed\n",
      "Bootstrap sample 2 completed\n",
      "Bootstrap sample 3 completed\n",
      "Bootstrap sample 4 completed\n",
      "Bootstrap sample 5 completed\n",
      "Exporting bootstrap samples\n",
      "Completed!\n",
      "Exporting bootstrap estimates...\n",
      "Completed!\n"
     ]
    }
   ],
   "source": [
    "#run program\n",
    "nonparm_bootstrapping(\n",
    "    file_name='fulldataset (1).csv' #path or filename\n",
    "    ,method='STEM' #SAR, STEM, OLS\n",
    "    ,y=['PrevRate'] #PrevRate or Death_1M\n",
    "    ,n_bootstraps=5 #number of bootstrap samples\n",
    "    ,intercept=True #set to True or False\n",
    ")"
   ]
  },
  {
   "cell_type": "code",
   "execution_count": 215,
   "metadata": {},
   "outputs": [
    {
     "name": "stderr",
     "output_type": "stream",
     "text": [
      "C:\\Users\\fongx\\AppData\\Local\\Temp\\ipykernel_18244\\107877649.py:28: FutureWarning: The default value of regex will change from True to False in a future version. In addition, single character regular expressions will *not* be treated as literal strings when regex=True.\n",
      "  estimates['Significant Correlate']=estimates['Significant Correlate'].str.replace('*','').str.strip()\n"
     ]
    },
    {
     "name": "stdout",
     "output_type": "stream",
     "text": [
      "Bootstrap sample 1 completed\n",
      "Bootstrap sample 2 completed\n",
      "Bootstrap sample 3 completed\n",
      "Bootstrap sample 4 completed\n",
      "Bootstrap sample 5 completed\n",
      "Exporting bootstrap samples\n"
     ]
    }
   ],
   "source": [
    "#run program\n",
    "nonparm_bootstrapping(\n",
    "    file_name='fulldataset (1).csv' #path or filename\n",
    "    ,method='STEM' #SAR, STEM, OLS\n",
    "    ,y=['PrevRate'] #PrevRate or Death_1M\n",
    "    ,n_bootstraps=5 #number of bootstrap samples\n",
    "    ,intercept=False #set to True or False\n",
    ")"
   ]
  },
  {
   "cell_type": "code",
   "execution_count": null,
   "metadata": {},
   "outputs": [],
   "source": [
    "nonparm_bootstrapping(\n",
    "    file_name='fulldataset (1).csv'\n",
    "    ,method='STEM' \n",
    "    ,y=['PrevRate']     \n",
    "    ,n_bootstraps=1000 \n",
    "    ,intercept=True \n",
    ")"
   ]
  }
 ],
 "metadata": {
  "kernelspec": {
   "display_name": "Python 3",
   "language": "python",
   "name": "python3"
  },
  "language_info": {
   "codemirror_mode": {
    "name": "ipython",
    "version": 3
   },
   "file_extension": ".py",
   "mimetype": "text/x-python",
   "name": "python",
   "nbconvert_exporter": "python",
   "pygments_lexer": "ipython3",
   "version": "3.10.9"
  },
  "orig_nbformat": 4,
  "vscode": {
   "interpreter": {
    "hash": "30a9994a7e20503fc871247317ac63f937197efe3e8f66fe259a7fd984fb386d"
   }
  }
 },
 "nbformat": 4,
 "nbformat_minor": 2
}
